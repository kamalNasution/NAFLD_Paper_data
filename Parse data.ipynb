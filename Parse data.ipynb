{
 "cells": [
  {
   "cell_type": "code",
   "execution_count": 7,
   "id": "1a872b35",
   "metadata": {},
   "outputs": [],
   "source": [
    "import pandas as pd\n",
    "from itertools import product"
   ]
  },
  {
   "cell_type": "code",
   "execution_count": 8,
   "id": "fb483aa6",
   "metadata": {},
   "outputs": [],
   "source": [
    "df = pd.read_excel(\"1.xlsx\")"
   ]
  },
  {
   "cell_type": "code",
   "execution_count": 9,
   "id": "7659d78a",
   "metadata": {},
   "outputs": [],
   "source": [
    "# Function to find matching pairs\n",
    "def find_pairs(drug_list, gene_list, dataset):\n",
    "    # Create combinations of all drugs and genes\n",
    "    combinations = list(product(drug_list, gene_list))\n",
    "    \n",
    "    # Filter combinations to find matches in the dataset\n",
    "    matching_pairs = []\n",
    "    for drug, gene in combinations:\n",
    "        if not dataset[(dataset['Drug'] == drug) & (dataset['Gene'] == gene)].empty:\n",
    "            matching_pairs.append((drug, gene))\n",
    "    \n",
    "    return matching_pairs\n"
   ]
  },
  {
   "cell_type": "code",
   "execution_count": 13,
   "id": "a0993812",
   "metadata": {},
   "outputs": [],
   "source": [
    "# Example input lists\n",
    "drug_list = ['DB00357','DB00523','DB00926','DB00799','DB00459','DB05785']\n",
    "gene_list = ['P05113','P32321','P51970','P05108','P10415','Q06187']\n"
   ]
  },
  {
   "cell_type": "code",
   "execution_count": 15,
   "id": "8a0ef93e",
   "metadata": {},
   "outputs": [],
   "source": [
    "drug_list = ['DB01129','DB00470','DB04905','DB00703','DB06414','DB00317']\n",
    "gene_list = ['P08913','P34903','P04035','P12318','P21397']"
   ]
  },
  {
   "cell_type": "code",
   "execution_count": 16,
   "id": "c9d83ee5",
   "metadata": {},
   "outputs": [
    {
     "name": "stdout",
     "output_type": "stream",
     "text": [
      "Matching pairs:\n"
     ]
    }
   ],
   "source": [
    "# Find matches\n",
    "matches = find_pairs(drug_list, gene_list, df)\n",
    "\n",
    "# Display results\n",
    "print(\"Matching pairs:\")\n",
    "for match in matches:\n",
    "    print(match)"
   ]
  },
  {
   "cell_type": "code",
   "execution_count": 17,
   "id": "c01235ed",
   "metadata": {},
   "outputs": [
    {
     "data": {
      "text/html": [
       "<div>\n",
       "<style scoped>\n",
       "    .dataframe tbody tr th:only-of-type {\n",
       "        vertical-align: middle;\n",
       "    }\n",
       "\n",
       "    .dataframe tbody tr th {\n",
       "        vertical-align: top;\n",
       "    }\n",
       "\n",
       "    .dataframe thead th {\n",
       "        text-align: right;\n",
       "    }\n",
       "</style>\n",
       "<table border=\"1\" class=\"dataframe\">\n",
       "  <thead>\n",
       "    <tr style=\"text-align: right;\">\n",
       "      <th></th>\n",
       "      <th>Drug</th>\n",
       "      <th>Gene</th>\n",
       "    </tr>\n",
       "  </thead>\n",
       "  <tbody>\n",
       "    <tr>\n",
       "      <th>0</th>\n",
       "      <td>DB00357</td>\n",
       "      <td>P05108</td>\n",
       "    </tr>\n",
       "    <tr>\n",
       "      <th>1</th>\n",
       "      <td>DB02721</td>\n",
       "      <td>P00325</td>\n",
       "    </tr>\n",
       "    <tr>\n",
       "      <th>2</th>\n",
       "      <td>DB00773</td>\n",
       "      <td>P23219</td>\n",
       "    </tr>\n",
       "    <tr>\n",
       "      <th>3</th>\n",
       "      <td>DB07138</td>\n",
       "      <td>Q16539</td>\n",
       "    </tr>\n",
       "    <tr>\n",
       "      <th>4</th>\n",
       "      <td>DB08136</td>\n",
       "      <td>P24941</td>\n",
       "    </tr>\n",
       "    <tr>\n",
       "      <th>...</th>\n",
       "      <td>...</td>\n",
       "      <td>...</td>\n",
       "    </tr>\n",
       "    <tr>\n",
       "      <th>15134</th>\n",
       "      <td>DB01215</td>\n",
       "      <td>P47870</td>\n",
       "    </tr>\n",
       "    <tr>\n",
       "      <th>15135</th>\n",
       "      <td>DB06089</td>\n",
       "      <td>P51787</td>\n",
       "    </tr>\n",
       "    <tr>\n",
       "      <th>15136</th>\n",
       "      <td>DB01614</td>\n",
       "      <td>P21728</td>\n",
       "    </tr>\n",
       "    <tr>\n",
       "      <th>15137</th>\n",
       "      <td>DB00582</td>\n",
       "      <td>P08684</td>\n",
       "    </tr>\n",
       "    <tr>\n",
       "      <th>15138</th>\n",
       "      <td>DB04793</td>\n",
       "      <td>P07477</td>\n",
       "    </tr>\n",
       "  </tbody>\n",
       "</table>\n",
       "<p>15139 rows × 2 columns</p>\n",
       "</div>"
      ],
      "text/plain": [
       "          Drug    Gene\n",
       "0      DB00357  P05108\n",
       "1      DB02721  P00325\n",
       "2      DB00773  P23219\n",
       "3      DB07138  Q16539\n",
       "4      DB08136  P24941\n",
       "...        ...     ...\n",
       "15134  DB01215  P47870\n",
       "15135  DB06089  P51787\n",
       "15136  DB01614  P21728\n",
       "15137  DB00582  P08684\n",
       "15138  DB04793  P07477\n",
       "\n",
       "[15139 rows x 2 columns]"
      ]
     },
     "execution_count": 17,
     "metadata": {},
     "output_type": "execute_result"
    }
   ],
   "source": [
    "df"
   ]
  },
  {
   "cell_type": "code",
   "execution_count": null,
   "id": "264f693e",
   "metadata": {},
   "outputs": [],
   "source": []
  }
 ],
 "metadata": {
  "kernelspec": {
   "display_name": "Python 3 (ipykernel)",
   "language": "python",
   "name": "python3"
  },
  "language_info": {
   "codemirror_mode": {
    "name": "ipython",
    "version": 3
   },
   "file_extension": ".py",
   "mimetype": "text/x-python",
   "name": "python",
   "nbconvert_exporter": "python",
   "pygments_lexer": "ipython3",
   "version": "3.10.4"
  }
 },
 "nbformat": 4,
 "nbformat_minor": 5
}
